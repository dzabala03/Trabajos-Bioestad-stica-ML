{
  "cells": [
    {
      "cell_type": "markdown",
      "id": "bf3bb9e0",
      "metadata": {
        "id": "bf3bb9e0"
      },
      "source": [
        "# Comparativa de Modelos de Clasificación usando PCA y MCA\n",
        "## Análisis del Dataset de Estilo de Vida y Salud\n",
        "\n",
        "---\n",
        "\n",
        "Este notebook implementa una comparativa exhaustiva de modelos de clasificación utilizando técnicas de reducción de dimensionalidad **PCA (Análisis de Componentes Principales)** y **MCA (Análisis de Correspondencias Múltiples)** en un dataset de estilo de vida y salud.\n",
        "\n",
        "### Objetivos:\n",
        "- Aplicar técnicas de selección de características y reducción de dimensionalidad\n",
        "- Comparar el rendimiento de modelos con diferentes enfoques de preprocesamiento\n",
        "- Analizar el impacto de PCA en variables numéricas y MCA en variables categóricas\n",
        "- Evaluar modelos híbridos que combinen ambas técnicas\n",
        "\n",
        "### Dataset:\n",
        "**Health Lifestyle Dataset** con información de 100,000 personas incluyendo:\n",
        "- **Variables numéricas**: age, bmi, blood_pressure, cholesterol, etc.\n",
        "- **Variables categóricas**: gender, marital_status, diet_type, occupation, etc.\n",
        "- **Target**: Clasificación binaria (healthy/diseased) - ~70% sanos, ~30% enfermos\n",
        "\n",
        "---"
      ]
    },
    {
      "cell_type": "markdown",
      "id": "40631f01",
      "metadata": {
        "id": "40631f01"
      },
      "source": [
        "## 1. Importación de libreria"
      ]
    },
    {
      "cell_type": "code",
      "execution_count": 2,
      "id": "4e1e1fee",
      "metadata": {
        "colab": {
          "base_uri": "https://localhost:8080/"
        },
        "id": "4e1e1fee",
        "outputId": "a599e36c-b239-4d07-bf0b-2f4e42ff233c"
      },
      "outputs": [
        {
          "output_type": "stream",
          "name": "stdout",
          "text": [
            "Collecting mca\n",
            "  Downloading mca-1.0.4-py2.py3-none-any.whl.metadata (3.3 kB)\n",
            "Requirement already satisfied: scipy in /usr/local/lib/python3.11/dist-packages (from mca) (1.16.1)\n",
            "Requirement already satisfied: numpy in /usr/local/lib/python3.11/dist-packages (from mca) (2.0.2)\n",
            "Requirement already satisfied: pandas in /usr/local/lib/python3.11/dist-packages (from mca) (2.2.2)\n",
            "Requirement already satisfied: python-dateutil>=2.8.2 in /usr/local/lib/python3.11/dist-packages (from pandas->mca) (2.9.0.post0)\n",
            "Requirement already satisfied: pytz>=2020.1 in /usr/local/lib/python3.11/dist-packages (from pandas->mca) (2025.2)\n",
            "Requirement already satisfied: tzdata>=2022.7 in /usr/local/lib/python3.11/dist-packages (from pandas->mca) (2025.2)\n",
            "Requirement already satisfied: six>=1.5 in /usr/local/lib/python3.11/dist-packages (from python-dateutil>=2.8.2->pandas->mca) (1.17.0)\n",
            "Downloading mca-1.0.4-py2.py3-none-any.whl (6.3 kB)\n",
            "Installing collected packages: mca\n",
            "Successfully installed mca-1.0.4\n"
          ]
        }
      ],
      "source": [
        "# Bibliotecas principales\n",
        "import pandas as pd\n",
        "import numpy as np\n",
        "import warnings\n",
        "warnings.filterwarnings('ignore')\n",
        "import os\n",
        "# Visualización\n",
        "import matplotlib.pyplot as plt\n",
        "import seaborn as sns\n",
        "plt.style.use('seaborn-v0_8')\n",
        "plt.rcParams['figure.figsize'] = (10, 6)\n",
        "\n",
        "# Preprocessing y división de datos\n",
        "from sklearn.model_selection import train_test_split, StratifiedKFold, cross_val_score\n",
        "from sklearn.preprocessing import StandardScaler, LabelEncoder, OneHotEncoder\n",
        "from sklearn.compose import ColumnTransformer\n",
        "from sklearn.pipeline import Pipeline\n",
        "from sklearn.impute import SimpleImputer\n",
        "\n",
        "# Reducción de dimensionalidad\n",
        "from sklearn.decomposition import PCA\n",
        "%pip install mca\n",
        "import mca  # Para MCA\n",
        "\n",
        "# Modelos de clasificación\n",
        "from sklearn.linear_model import LogisticRegression\n",
        "from sklearn.ensemble import RandomForestClassifier\n",
        "from sklearn.svm import SVC\n",
        "import xgboost as xgb\n",
        "from xgboost import XGBClassifier\n",
        "\n",
        "# Métricas de evaluación\n",
        "from sklearn.metrics import (accuracy_score, precision_score, recall_score,\n",
        "                           f1_score, roc_auc_score, confusion_matrix,\n",
        "                           classification_report, roc_curve, auc)\n",
        "\n",
        "# Utilidades adicionales\n",
        "import time\n",
        "from collections import defaultdict\n",
        "# Kaggle\n",
        "import kagglehub"
      ]
    },
    {
      "cell_type": "code",
      "execution_count": 3,
      "id": "ecb2083c",
      "metadata": {
        "colab": {
          "base_uri": "https://localhost:8080/"
        },
        "id": "ecb2083c",
        "outputId": "914ba3aa-5ead-42b4-a0f1-548d83411b43"
      },
      "outputs": [
        {
          "output_type": "stream",
          "name": "stdout",
          "text": [
            "Downloading from https://www.kaggle.com/api/v1/datasets/download/mahdimashayekhi/disease-risk-from-daily-habits?dataset_version_number=1...\n"
          ]
        },
        {
          "output_type": "stream",
          "name": "stderr",
          "text": [
            "100%|██████████| 20.8M/20.8M [00:01<00:00, 19.5MB/s]"
          ]
        },
        {
          "output_type": "stream",
          "name": "stdout",
          "text": [
            "Extracting files...\n"
          ]
        },
        {
          "output_type": "stream",
          "name": "stderr",
          "text": [
            "\n"
          ]
        },
        {
          "output_type": "stream",
          "name": "stdout",
          "text": [
            "<class 'pandas.core.frame.DataFrame'>\n",
            "RangeIndex: 100000 entries, 0 to 99999\n",
            "Data columns (total 48 columns):\n",
            " #   Column                    Non-Null Count   Dtype  \n",
            "---  ------                    --------------   -----  \n",
            " 0   survey_code               100000 non-null  int64  \n",
            " 1   age                       100000 non-null  int64  \n",
            " 2   gender                    100000 non-null  object \n",
            " 3   height                    100000 non-null  float64\n",
            " 4   weight                    100000 non-null  float64\n",
            " 5   bmi                       100000 non-null  float64\n",
            " 6   bmi_estimated             100000 non-null  float64\n",
            " 7   bmi_scaled                100000 non-null  float64\n",
            " 8   bmi_corrected             100000 non-null  float64\n",
            " 9   waist_size                100000 non-null  float64\n",
            " 10  blood_pressure            92331 non-null   float64\n",
            " 11  heart_rate                85997 non-null   float64\n",
            " 12  cholesterol               100000 non-null  float64\n",
            " 13  glucose                   100000 non-null  float64\n",
            " 14  insulin                   84164 non-null   float64\n",
            " 15  sleep_hours               100000 non-null  float64\n",
            " 16  sleep_quality             100000 non-null  object \n",
            " 17  work_hours                100000 non-null  float64\n",
            " 18  physical_activity         100000 non-null  float64\n",
            " 19  daily_steps               91671 non-null   float64\n",
            " 20  calorie_intake            100000 non-null  float64\n",
            " 21  sugar_intake              100000 non-null  float64\n",
            " 22  alcohol_consumption       57613 non-null   object \n",
            " 23  smoking_level             100000 non-null  object \n",
            " 24  water_intake              100000 non-null  float64\n",
            " 25  screen_time               100000 non-null  float64\n",
            " 26  stress_level              100000 non-null  int64  \n",
            " 27  mental_health_score       100000 non-null  int64  \n",
            " 28  mental_health_support     100000 non-null  object \n",
            " 29  education_level           100000 non-null  object \n",
            " 30  job_type                  100000 non-null  object \n",
            " 31  occupation                100000 non-null  object \n",
            " 32  income                    91530 non-null   float64\n",
            " 33  diet_type                 100000 non-null  object \n",
            " 34  exercise_type             75031 non-null   object \n",
            " 35  device_usage              100000 non-null  object \n",
            " 36  healthcare_access         100000 non-null  object \n",
            " 37  insurance                 100000 non-null  object \n",
            " 38  sunlight_exposure         100000 non-null  object \n",
            " 39  meals_per_day             100000 non-null  int64  \n",
            " 40  caffeine_intake           66739 non-null   object \n",
            " 41  family_history            100000 non-null  object \n",
            " 42  pet_owner                 100000 non-null  object \n",
            " 43  electrolyte_level         100000 non-null  int64  \n",
            " 44  gene_marker_flag          89526 non-null   float64\n",
            " 45  environmental_risk_score  100000 non-null  float64\n",
            " 46  daily_supplement_dosage   100000 non-null  float64\n",
            " 47  target                    100000 non-null  object \n",
            "dtypes: float64(24), int64(6), object(18)\n",
            "memory usage: 36.6+ MB\n"
          ]
        }
      ],
      "source": [
        "path = kagglehub.dataset_download(\"mahdimashayekhi/disease-risk-from-daily-habits\")\n",
        "csv_files = [f for f in os.listdir(path) if f.endswith('.csv')]\n",
        "csv_path = os.path.join(path, csv_files[0])\n",
        "df = pd.read_csv(csv_path)\n",
        "df.info()"
      ]
    },
    {
      "cell_type": "code",
      "execution_count": 5,
      "id": "6a6858c1",
      "metadata": {
        "id": "6a6858c1"
      },
      "outputs": [],
      "source": [
        "# Eliminar surveycode\n",
        "if 'survey_code' in df.columns:\n",
        "    df.drop(columns=['survey_code'], inplace=True)\n",
        "# Separar columnas por tipo de dato\n",
        "numerical_cols = df.select_dtypes(include=[np.number]).columns.tolist()\n",
        "categorical_cols = df.select_dtypes(include=['object']).columns.tolist()\n",
        "# Excluir la columna objetivo de ambas listas\n",
        "if 'target' in numerical_cols:\n",
        "    numerical_cols.remove('target')\n",
        "if 'target' in categorical_cols:\n",
        "    categorical_cols.remove('target')"
      ]
    },
    {
      "cell_type": "markdown",
      "id": "5fcb05e5",
      "metadata": {
        "id": "5fcb05e5"
      },
      "source": [
        "## 2. Exploratory Data Analysis (EDA)\n",
        "\n",
        "Realizamos un análisis exploratorio completo para entender la estructura de los datos, distribuciones, correlaciones y relaciones con la variable objetivo."
      ]
    },
    {
      "cell_type": "code",
      "execution_count": 6,
      "id": "4144d4de",
      "metadata": {
        "colab": {
          "base_uri": "https://localhost:8080/"
        },
        "id": "4144d4de",
        "outputId": "98c40f54-6a02-4a71-d34b-ece6f0ac5c7d"
      },
      "outputs": [
        {
          "output_type": "stream",
          "name": "stdout",
          "text": [
            "Dimensiones: (100000, 47)\n"
          ]
        }
      ],
      "source": [
        "print(f\"Dimensiones: {df.shape}\")"
      ]
    },
    {
      "cell_type": "code",
      "execution_count": 7,
      "id": "e326eee1",
      "metadata": {
        "colab": {
          "base_uri": "https://localhost:8080/"
        },
        "id": "e326eee1",
        "outputId": "1f09709a-3aa3-4d11-8429-fa4b3b3a678c"
      },
      "outputs": [
        {
          "output_type": "stream",
          "name": "stdout",
          "text": [
            "Valores faltantes: 165398\n"
          ]
        }
      ],
      "source": [
        "print(f\"Valores faltantes: {df.isnull().sum().sum()}\")"
      ]
    },
    {
      "cell_type": "code",
      "execution_count": 8,
      "id": "453a2b37",
      "metadata": {
        "colab": {
          "base_uri": "https://localhost:8080/"
        },
        "id": "453a2b37",
        "outputId": "735cc4f3-8472-4586-d0d9-15c71fe33c4b"
      },
      "outputs": [
        {
          "output_type": "stream",
          "name": "stdout",
          "text": [
            "Tipos de datos:\n",
            "float64    24\n",
            "object     18\n",
            "int64       5\n",
            "Name: count, dtype: int64\n"
          ]
        }
      ],
      "source": [
        "print(f\"Tipos de datos:\")\n",
        "print(df.dtypes.value_counts())"
      ]
    },
    {
      "cell_type": "code",
      "execution_count": 9,
      "id": "6e055c7e",
      "metadata": {
        "colab": {
          "base_uri": "https://localhost:8080/"
        },
        "id": "6e055c7e",
        "outputId": "dbcaee1e-51be-416d-8e16-42f21329472a"
      },
      "outputs": [
        {
          "output_type": "stream",
          "name": "stdout",
          "text": [
            "healthy: 70,097 (70.10%)\n",
            "diseased: 29,903 (29.90%)\n"
          ]
        }
      ],
      "source": [
        "target_counts = df['target'].value_counts()\n",
        "target_props = df['target'].value_counts(normalize=True)\n",
        "for val in target_counts.index:\n",
        "    print(f\"{val}: {target_counts[val]:,} ({target_props[val]:.2%})\")"
      ]
    },
    {
      "cell_type": "code",
      "execution_count": 10,
      "id": "7de9e666",
      "metadata": {
        "colab": {
          "base_uri": "https://localhost:8080/"
        },
        "id": "7de9e666",
        "outputId": "ee6a8157-6e5f-4f12-f589-320071962e6b"
      },
      "outputs": [
        {
          "output_type": "stream",
          "name": "stdout",
          "text": [
            "Variables numéricas (29): ['age', 'height', 'weight', 'bmi', 'bmi_estimated', 'bmi_scaled', 'bmi_corrected', 'waist_size', 'blood_pressure', 'heart_rate', 'cholesterol', 'glucose', 'insulin', 'sleep_hours', 'work_hours', 'physical_activity', 'daily_steps', 'calorie_intake', 'sugar_intake', 'water_intake', 'screen_time', 'stress_level', 'mental_health_score', 'income', 'meals_per_day', 'electrolyte_level', 'gene_marker_flag', 'environmental_risk_score', 'daily_supplement_dosage']\n",
            "Variables categóricas (17): ['gender', 'sleep_quality', 'alcohol_consumption', 'smoking_level', 'mental_health_support', 'education_level', 'job_type', 'occupation', 'diet_type', 'exercise_type', 'device_usage', 'healthcare_access', 'insurance', 'sunlight_exposure', 'caffeine_intake', 'family_history', 'pet_owner']\n"
          ]
        }
      ],
      "source": [
        "print(f\"Variables numéricas ({len(numerical_cols)}): {numerical_cols}\")\n",
        "print(f\"Variables categóricas ({len(categorical_cols)}): {categorical_cols}\")"
      ]
    },
    {
      "cell_type": "code",
      "execution_count": 11,
      "id": "b0293f68",
      "metadata": {
        "colab": {
          "base_uri": "https://localhost:8080/",
          "height": 350
        },
        "id": "b0293f68",
        "outputId": "f59f124e-3308-48c5-dfd5-e2165f2a9022"
      },
      "outputs": [
        {
          "output_type": "execute_result",
          "data": {
            "text/plain": [
              "             age     height     weight        bmi  bmi_estimated  bmi_scaled  \\\n",
              "count  100000.00  100000.00  100000.00  100000.00      100000.00   100000.00   \n",
              "mean       48.53     170.02      70.06      24.49          24.49       73.48   \n",
              "std        17.89       9.98      14.69       5.95           5.95       17.85   \n",
              "min        18.00     140.00      40.00       9.99           9.99       29.97   \n",
              "25%        33.00     163.31      59.86      20.27          20.27       60.81   \n",
              "50%        48.00     170.02      69.92      24.16          24.16       72.47   \n",
              "75%        64.00     176.73      80.03      28.26          28.26       84.78   \n",
              "max        79.00     210.00     139.25      59.23          59.23      177.70   \n",
              "\n",
              "       bmi_corrected  waist_size  blood_pressure  heart_rate  ...  \\\n",
              "count      100000.00   100000.00        92331.00    85997.00  ...   \n",
              "mean           24.49       84.93          119.98       74.97  ...   \n",
              "std             5.95       12.04           15.02        9.94  ...   \n",
              "min             9.89       34.09           59.13       34.75  ...   \n",
              "25%            20.27       76.80          109.81       68.28  ...   \n",
              "50%            24.15       84.96          119.95       75.05  ...   \n",
              "75%            28.25       93.02          130.12       81.69  ...   \n",
              "max            59.14      133.15          184.44      114.14  ...   \n",
              "\n",
              "       water_intake  screen_time  stress_level  mental_health_score    income  \\\n",
              "count     100000.00    100000.00     100000.00            100000.00  91530.00   \n",
              "mean           2.01         6.02          4.99                 5.00   4038.13   \n",
              "std            0.69         2.93          3.15                 3.16   1930.03   \n",
              "min            0.50         0.00          0.00                 0.00    500.00   \n",
              "25%            1.53         3.97          2.00                 2.00   2665.40   \n",
              "50%            2.00         5.99          5.00                 5.00   4004.60   \n",
              "75%            2.47         8.02          8.00                 8.00   5360.01   \n",
              "max            5.00        16.00         10.00                10.00  12029.41   \n",
              "\n",
              "       meals_per_day  electrolyte_level  gene_marker_flag  \\\n",
              "count      100000.00           100000.0           89526.0   \n",
              "mean            3.00                0.0               1.0   \n",
              "std             1.41                0.0               0.0   \n",
              "min             1.00                0.0               1.0   \n",
              "25%             2.00                0.0               1.0   \n",
              "50%             3.00                0.0               1.0   \n",
              "75%             4.00                0.0               1.0   \n",
              "max             5.00                0.0               1.0   \n",
              "\n",
              "       environmental_risk_score  daily_supplement_dosage  \n",
              "count                  100000.0                100000.00  \n",
              "mean                        5.5                     0.02  \n",
              "std                         0.0                     5.76  \n",
              "min                         5.5                   -10.00  \n",
              "25%                         5.5                    -4.98  \n",
              "50%                         5.5                     0.02  \n",
              "75%                         5.5                     5.01  \n",
              "max                         5.5                    10.00  \n",
              "\n",
              "[8 rows x 29 columns]"
            ],
            "text/html": [
              "\n",
              "  <div id=\"df-c897020e-cf90-4125-9e2d-9c2fcf6764ff\" class=\"colab-df-container\">\n",
              "    <div>\n",
              "<style scoped>\n",
              "    .dataframe tbody tr th:only-of-type {\n",
              "        vertical-align: middle;\n",
              "    }\n",
              "\n",
              "    .dataframe tbody tr th {\n",
              "        vertical-align: top;\n",
              "    }\n",
              "\n",
              "    .dataframe thead th {\n",
              "        text-align: right;\n",
              "    }\n",
              "</style>\n",
              "<table border=\"1\" class=\"dataframe\">\n",
              "  <thead>\n",
              "    <tr style=\"text-align: right;\">\n",
              "      <th></th>\n",
              "      <th>age</th>\n",
              "      <th>height</th>\n",
              "      <th>weight</th>\n",
              "      <th>bmi</th>\n",
              "      <th>bmi_estimated</th>\n",
              "      <th>bmi_scaled</th>\n",
              "      <th>bmi_corrected</th>\n",
              "      <th>waist_size</th>\n",
              "      <th>blood_pressure</th>\n",
              "      <th>heart_rate</th>\n",
              "      <th>...</th>\n",
              "      <th>water_intake</th>\n",
              "      <th>screen_time</th>\n",
              "      <th>stress_level</th>\n",
              "      <th>mental_health_score</th>\n",
              "      <th>income</th>\n",
              "      <th>meals_per_day</th>\n",
              "      <th>electrolyte_level</th>\n",
              "      <th>gene_marker_flag</th>\n",
              "      <th>environmental_risk_score</th>\n",
              "      <th>daily_supplement_dosage</th>\n",
              "    </tr>\n",
              "  </thead>\n",
              "  <tbody>\n",
              "    <tr>\n",
              "      <th>count</th>\n",
              "      <td>100000.00</td>\n",
              "      <td>100000.00</td>\n",
              "      <td>100000.00</td>\n",
              "      <td>100000.00</td>\n",
              "      <td>100000.00</td>\n",
              "      <td>100000.00</td>\n",
              "      <td>100000.00</td>\n",
              "      <td>100000.00</td>\n",
              "      <td>92331.00</td>\n",
              "      <td>85997.00</td>\n",
              "      <td>...</td>\n",
              "      <td>100000.00</td>\n",
              "      <td>100000.00</td>\n",
              "      <td>100000.00</td>\n",
              "      <td>100000.00</td>\n",
              "      <td>91530.00</td>\n",
              "      <td>100000.00</td>\n",
              "      <td>100000.0</td>\n",
              "      <td>89526.0</td>\n",
              "      <td>100000.0</td>\n",
              "      <td>100000.00</td>\n",
              "    </tr>\n",
              "    <tr>\n",
              "      <th>mean</th>\n",
              "      <td>48.53</td>\n",
              "      <td>170.02</td>\n",
              "      <td>70.06</td>\n",
              "      <td>24.49</td>\n",
              "      <td>24.49</td>\n",
              "      <td>73.48</td>\n",
              "      <td>24.49</td>\n",
              "      <td>84.93</td>\n",
              "      <td>119.98</td>\n",
              "      <td>74.97</td>\n",
              "      <td>...</td>\n",
              "      <td>2.01</td>\n",
              "      <td>6.02</td>\n",
              "      <td>4.99</td>\n",
              "      <td>5.00</td>\n",
              "      <td>4038.13</td>\n",
              "      <td>3.00</td>\n",
              "      <td>0.0</td>\n",
              "      <td>1.0</td>\n",
              "      <td>5.5</td>\n",
              "      <td>0.02</td>\n",
              "    </tr>\n",
              "    <tr>\n",
              "      <th>std</th>\n",
              "      <td>17.89</td>\n",
              "      <td>9.98</td>\n",
              "      <td>14.69</td>\n",
              "      <td>5.95</td>\n",
              "      <td>5.95</td>\n",
              "      <td>17.85</td>\n",
              "      <td>5.95</td>\n",
              "      <td>12.04</td>\n",
              "      <td>15.02</td>\n",
              "      <td>9.94</td>\n",
              "      <td>...</td>\n",
              "      <td>0.69</td>\n",
              "      <td>2.93</td>\n",
              "      <td>3.15</td>\n",
              "      <td>3.16</td>\n",
              "      <td>1930.03</td>\n",
              "      <td>1.41</td>\n",
              "      <td>0.0</td>\n",
              "      <td>0.0</td>\n",
              "      <td>0.0</td>\n",
              "      <td>5.76</td>\n",
              "    </tr>\n",
              "    <tr>\n",
              "      <th>min</th>\n",
              "      <td>18.00</td>\n",
              "      <td>140.00</td>\n",
              "      <td>40.00</td>\n",
              "      <td>9.99</td>\n",
              "      <td>9.99</td>\n",
              "      <td>29.97</td>\n",
              "      <td>9.89</td>\n",
              "      <td>34.09</td>\n",
              "      <td>59.13</td>\n",
              "      <td>34.75</td>\n",
              "      <td>...</td>\n",
              "      <td>0.50</td>\n",
              "      <td>0.00</td>\n",
              "      <td>0.00</td>\n",
              "      <td>0.00</td>\n",
              "      <td>500.00</td>\n",
              "      <td>1.00</td>\n",
              "      <td>0.0</td>\n",
              "      <td>1.0</td>\n",
              "      <td>5.5</td>\n",
              "      <td>-10.00</td>\n",
              "    </tr>\n",
              "    <tr>\n",
              "      <th>25%</th>\n",
              "      <td>33.00</td>\n",
              "      <td>163.31</td>\n",
              "      <td>59.86</td>\n",
              "      <td>20.27</td>\n",
              "      <td>20.27</td>\n",
              "      <td>60.81</td>\n",
              "      <td>20.27</td>\n",
              "      <td>76.80</td>\n",
              "      <td>109.81</td>\n",
              "      <td>68.28</td>\n",
              "      <td>...</td>\n",
              "      <td>1.53</td>\n",
              "      <td>3.97</td>\n",
              "      <td>2.00</td>\n",
              "      <td>2.00</td>\n",
              "      <td>2665.40</td>\n",
              "      <td>2.00</td>\n",
              "      <td>0.0</td>\n",
              "      <td>1.0</td>\n",
              "      <td>5.5</td>\n",
              "      <td>-4.98</td>\n",
              "    </tr>\n",
              "    <tr>\n",
              "      <th>50%</th>\n",
              "      <td>48.00</td>\n",
              "      <td>170.02</td>\n",
              "      <td>69.92</td>\n",
              "      <td>24.16</td>\n",
              "      <td>24.16</td>\n",
              "      <td>72.47</td>\n",
              "      <td>24.15</td>\n",
              "      <td>84.96</td>\n",
              "      <td>119.95</td>\n",
              "      <td>75.05</td>\n",
              "      <td>...</td>\n",
              "      <td>2.00</td>\n",
              "      <td>5.99</td>\n",
              "      <td>5.00</td>\n",
              "      <td>5.00</td>\n",
              "      <td>4004.60</td>\n",
              "      <td>3.00</td>\n",
              "      <td>0.0</td>\n",
              "      <td>1.0</td>\n",
              "      <td>5.5</td>\n",
              "      <td>0.02</td>\n",
              "    </tr>\n",
              "    <tr>\n",
              "      <th>75%</th>\n",
              "      <td>64.00</td>\n",
              "      <td>176.73</td>\n",
              "      <td>80.03</td>\n",
              "      <td>28.26</td>\n",
              "      <td>28.26</td>\n",
              "      <td>84.78</td>\n",
              "      <td>28.25</td>\n",
              "      <td>93.02</td>\n",
              "      <td>130.12</td>\n",
              "      <td>81.69</td>\n",
              "      <td>...</td>\n",
              "      <td>2.47</td>\n",
              "      <td>8.02</td>\n",
              "      <td>8.00</td>\n",
              "      <td>8.00</td>\n",
              "      <td>5360.01</td>\n",
              "      <td>4.00</td>\n",
              "      <td>0.0</td>\n",
              "      <td>1.0</td>\n",
              "      <td>5.5</td>\n",
              "      <td>5.01</td>\n",
              "    </tr>\n",
              "    <tr>\n",
              "      <th>max</th>\n",
              "      <td>79.00</td>\n",
              "      <td>210.00</td>\n",
              "      <td>139.25</td>\n",
              "      <td>59.23</td>\n",
              "      <td>59.23</td>\n",
              "      <td>177.70</td>\n",
              "      <td>59.14</td>\n",
              "      <td>133.15</td>\n",
              "      <td>184.44</td>\n",
              "      <td>114.14</td>\n",
              "      <td>...</td>\n",
              "      <td>5.00</td>\n",
              "      <td>16.00</td>\n",
              "      <td>10.00</td>\n",
              "      <td>10.00</td>\n",
              "      <td>12029.41</td>\n",
              "      <td>5.00</td>\n",
              "      <td>0.0</td>\n",
              "      <td>1.0</td>\n",
              "      <td>5.5</td>\n",
              "      <td>10.00</td>\n",
              "    </tr>\n",
              "  </tbody>\n",
              "</table>\n",
              "<p>8 rows × 29 columns</p>\n",
              "</div>\n",
              "    <div class=\"colab-df-buttons\">\n",
              "\n",
              "  <div class=\"colab-df-container\">\n",
              "    <button class=\"colab-df-convert\" onclick=\"convertToInteractive('df-c897020e-cf90-4125-9e2d-9c2fcf6764ff')\"\n",
              "            title=\"Convert this dataframe to an interactive table.\"\n",
              "            style=\"display:none;\">\n",
              "\n",
              "  <svg xmlns=\"http://www.w3.org/2000/svg\" height=\"24px\" viewBox=\"0 -960 960 960\">\n",
              "    <path d=\"M120-120v-720h720v720H120Zm60-500h600v-160H180v160Zm220 220h160v-160H400v160Zm0 220h160v-160H400v160ZM180-400h160v-160H180v160Zm440 0h160v-160H620v160ZM180-180h160v-160H180v160Zm440 0h160v-160H620v160Z\"/>\n",
              "  </svg>\n",
              "    </button>\n",
              "\n",
              "  <style>\n",
              "    .colab-df-container {\n",
              "      display:flex;\n",
              "      gap: 12px;\n",
              "    }\n",
              "\n",
              "    .colab-df-convert {\n",
              "      background-color: #E8F0FE;\n",
              "      border: none;\n",
              "      border-radius: 50%;\n",
              "      cursor: pointer;\n",
              "      display: none;\n",
              "      fill: #1967D2;\n",
              "      height: 32px;\n",
              "      padding: 0 0 0 0;\n",
              "      width: 32px;\n",
              "    }\n",
              "\n",
              "    .colab-df-convert:hover {\n",
              "      background-color: #E2EBFA;\n",
              "      box-shadow: 0px 1px 2px rgba(60, 64, 67, 0.3), 0px 1px 3px 1px rgba(60, 64, 67, 0.15);\n",
              "      fill: #174EA6;\n",
              "    }\n",
              "\n",
              "    .colab-df-buttons div {\n",
              "      margin-bottom: 4px;\n",
              "    }\n",
              "\n",
              "    [theme=dark] .colab-df-convert {\n",
              "      background-color: #3B4455;\n",
              "      fill: #D2E3FC;\n",
              "    }\n",
              "\n",
              "    [theme=dark] .colab-df-convert:hover {\n",
              "      background-color: #434B5C;\n",
              "      box-shadow: 0px 1px 3px 1px rgba(0, 0, 0, 0.15);\n",
              "      filter: drop-shadow(0px 1px 2px rgba(0, 0, 0, 0.3));\n",
              "      fill: #FFFFFF;\n",
              "    }\n",
              "  </style>\n",
              "\n",
              "    <script>\n",
              "      const buttonEl =\n",
              "        document.querySelector('#df-c897020e-cf90-4125-9e2d-9c2fcf6764ff button.colab-df-convert');\n",
              "      buttonEl.style.display =\n",
              "        google.colab.kernel.accessAllowed ? 'block' : 'none';\n",
              "\n",
              "      async function convertToInteractive(key) {\n",
              "        const element = document.querySelector('#df-c897020e-cf90-4125-9e2d-9c2fcf6764ff');\n",
              "        const dataTable =\n",
              "          await google.colab.kernel.invokeFunction('convertToInteractive',\n",
              "                                                    [key], {});\n",
              "        if (!dataTable) return;\n",
              "\n",
              "        const docLinkHtml = 'Like what you see? Visit the ' +\n",
              "          '<a target=\"_blank\" href=https://colab.research.google.com/notebooks/data_table.ipynb>data table notebook</a>'\n",
              "          + ' to learn more about interactive tables.';\n",
              "        element.innerHTML = '';\n",
              "        dataTable['output_type'] = 'display_data';\n",
              "        await google.colab.output.renderOutput(dataTable, element);\n",
              "        const docLink = document.createElement('div');\n",
              "        docLink.innerHTML = docLinkHtml;\n",
              "        element.appendChild(docLink);\n",
              "      }\n",
              "    </script>\n",
              "  </div>\n",
              "\n",
              "\n",
              "    <div id=\"df-ce71e70e-0e77-4663-a8d1-d261a9cc4b08\">\n",
              "      <button class=\"colab-df-quickchart\" onclick=\"quickchart('df-ce71e70e-0e77-4663-a8d1-d261a9cc4b08')\"\n",
              "                title=\"Suggest charts\"\n",
              "                style=\"display:none;\">\n",
              "\n",
              "<svg xmlns=\"http://www.w3.org/2000/svg\" height=\"24px\"viewBox=\"0 0 24 24\"\n",
              "     width=\"24px\">\n",
              "    <g>\n",
              "        <path d=\"M19 3H5c-1.1 0-2 .9-2 2v14c0 1.1.9 2 2 2h14c1.1 0 2-.9 2-2V5c0-1.1-.9-2-2-2zM9 17H7v-7h2v7zm4 0h-2V7h2v10zm4 0h-2v-4h2v4z\"/>\n",
              "    </g>\n",
              "</svg>\n",
              "      </button>\n",
              "\n",
              "<style>\n",
              "  .colab-df-quickchart {\n",
              "      --bg-color: #E8F0FE;\n",
              "      --fill-color: #1967D2;\n",
              "      --hover-bg-color: #E2EBFA;\n",
              "      --hover-fill-color: #174EA6;\n",
              "      --disabled-fill-color: #AAA;\n",
              "      --disabled-bg-color: #DDD;\n",
              "  }\n",
              "\n",
              "  [theme=dark] .colab-df-quickchart {\n",
              "      --bg-color: #3B4455;\n",
              "      --fill-color: #D2E3FC;\n",
              "      --hover-bg-color: #434B5C;\n",
              "      --hover-fill-color: #FFFFFF;\n",
              "      --disabled-bg-color: #3B4455;\n",
              "      --disabled-fill-color: #666;\n",
              "  }\n",
              "\n",
              "  .colab-df-quickchart {\n",
              "    background-color: var(--bg-color);\n",
              "    border: none;\n",
              "    border-radius: 50%;\n",
              "    cursor: pointer;\n",
              "    display: none;\n",
              "    fill: var(--fill-color);\n",
              "    height: 32px;\n",
              "    padding: 0;\n",
              "    width: 32px;\n",
              "  }\n",
              "\n",
              "  .colab-df-quickchart:hover {\n",
              "    background-color: var(--hover-bg-color);\n",
              "    box-shadow: 0 1px 2px rgba(60, 64, 67, 0.3), 0 1px 3px 1px rgba(60, 64, 67, 0.15);\n",
              "    fill: var(--button-hover-fill-color);\n",
              "  }\n",
              "\n",
              "  .colab-df-quickchart-complete:disabled,\n",
              "  .colab-df-quickchart-complete:disabled:hover {\n",
              "    background-color: var(--disabled-bg-color);\n",
              "    fill: var(--disabled-fill-color);\n",
              "    box-shadow: none;\n",
              "  }\n",
              "\n",
              "  .colab-df-spinner {\n",
              "    border: 2px solid var(--fill-color);\n",
              "    border-color: transparent;\n",
              "    border-bottom-color: var(--fill-color);\n",
              "    animation:\n",
              "      spin 1s steps(1) infinite;\n",
              "  }\n",
              "\n",
              "  @keyframes spin {\n",
              "    0% {\n",
              "      border-color: transparent;\n",
              "      border-bottom-color: var(--fill-color);\n",
              "      border-left-color: var(--fill-color);\n",
              "    }\n",
              "    20% {\n",
              "      border-color: transparent;\n",
              "      border-left-color: var(--fill-color);\n",
              "      border-top-color: var(--fill-color);\n",
              "    }\n",
              "    30% {\n",
              "      border-color: transparent;\n",
              "      border-left-color: var(--fill-color);\n",
              "      border-top-color: var(--fill-color);\n",
              "      border-right-color: var(--fill-color);\n",
              "    }\n",
              "    40% {\n",
              "      border-color: transparent;\n",
              "      border-right-color: var(--fill-color);\n",
              "      border-top-color: var(--fill-color);\n",
              "    }\n",
              "    60% {\n",
              "      border-color: transparent;\n",
              "      border-right-color: var(--fill-color);\n",
              "    }\n",
              "    80% {\n",
              "      border-color: transparent;\n",
              "      border-right-color: var(--fill-color);\n",
              "      border-bottom-color: var(--fill-color);\n",
              "    }\n",
              "    90% {\n",
              "      border-color: transparent;\n",
              "      border-bottom-color: var(--fill-color);\n",
              "    }\n",
              "  }\n",
              "</style>\n",
              "\n",
              "      <script>\n",
              "        async function quickchart(key) {\n",
              "          const quickchartButtonEl =\n",
              "            document.querySelector('#' + key + ' button');\n",
              "          quickchartButtonEl.disabled = true;  // To prevent multiple clicks.\n",
              "          quickchartButtonEl.classList.add('colab-df-spinner');\n",
              "          try {\n",
              "            const charts = await google.colab.kernel.invokeFunction(\n",
              "                'suggestCharts', [key], {});\n",
              "          } catch (error) {\n",
              "            console.error('Error during call to suggestCharts:', error);\n",
              "          }\n",
              "          quickchartButtonEl.classList.remove('colab-df-spinner');\n",
              "          quickchartButtonEl.classList.add('colab-df-quickchart-complete');\n",
              "        }\n",
              "        (() => {\n",
              "          let quickchartButtonEl =\n",
              "            document.querySelector('#df-ce71e70e-0e77-4663-a8d1-d261a9cc4b08 button');\n",
              "          quickchartButtonEl.style.display =\n",
              "            google.colab.kernel.accessAllowed ? 'block' : 'none';\n",
              "        })();\n",
              "      </script>\n",
              "    </div>\n",
              "\n",
              "    </div>\n",
              "  </div>\n"
            ],
            "application/vnd.google.colaboratory.intrinsic+json": {
              "type": "dataframe"
            }
          },
          "metadata": {},
          "execution_count": 11
        }
      ],
      "source": [
        "df.describe().round(2)"
      ]
    },
    {
      "cell_type": "markdown",
      "id": "1d85502f",
      "metadata": {
        "id": "1d85502f"
      },
      "source": [
        "## 3. Preprocesamiento de datos\n",
        "\n",
        "Preparamos los datos para el modelado, incluyendo la codificación de variables categóricas, estandarización de variables numéricas y división en conjuntos de entrenamiento y prueba."
      ]
    },
    {
      "cell_type": "code",
      "execution_count": 12,
      "id": "4e46b5db",
      "metadata": {
        "colab": {
          "base_uri": "https://localhost:8080/"
        },
        "id": "4e46b5db",
        "outputId": "0bac0b4d-f48b-4eff-b77c-725c61dc7873"
      },
      "outputs": [
        {
          "output_type": "stream",
          "name": "stdout",
          "text": [
            "X_preprocessed shape: (100000, 82)\n"
          ]
        }
      ],
      "source": [
        "# Separar X e y\n",
        "X = df.drop('target', axis=1)\n",
        "y = df['target']\n",
        "\n",
        "# Imputación y escalado para variables numéricas, estrategia de media\n",
        "num_pipeline = Pipeline([\n",
        "    ('imputer', SimpleImputer(strategy='mean')),\n",
        "    ('scaler', StandardScaler())\n",
        "])\n",
        "\n",
        "# Imputación y codificación para variables categóricas\n",
        "cat_pipeline = Pipeline([\n",
        "    ('imputer', SimpleImputer(strategy='most_frequent')),\n",
        "    ('encoder', OneHotEncoder(handle_unknown='ignore'))\n",
        "])\n",
        "\n",
        "# ColumnTransformer para aplicar los pipelines\n",
        "preprocessor = ColumnTransformer([\n",
        "    ('num', num_pipeline, numerical_cols),\n",
        "    ('cat', cat_pipeline, categorical_cols)\n",
        "])\n",
        "\n",
        "# Aplicar preprocesamiento\n",
        "X_preprocessed = preprocessor.fit_transform(X)\n",
        "print(f\"X_preprocessed shape: {X_preprocessed.shape}\")"
      ]
    },
    {
      "cell_type": "markdown",
      "id": "7a7b37ed",
      "metadata": {
        "id": "7a7b37ed"
      },
      "source": [
        "## 4. PCA\n",
        "\n",
        "Aplicamos Análisis de Componentes Principales (PCA) a las variables numéricas para reducir la dimensionalidad manteniendo el 70% de la varianza explicada."
      ]
    },
    {
      "cell_type": "code",
      "execution_count": 13,
      "id": "b88d9940",
      "metadata": {
        "colab": {
          "base_uri": "https://localhost:8080/",
          "height": 425
        },
        "id": "b88d9940",
        "outputId": "376fd5ec-fd1a-4864-e7d5-132740a6b17e"
      },
      "outputs": [
        {
          "output_type": "stream",
          "name": "stdout",
          "text": [
            "Componentes PCA: 15\n"
          ]
        },
        {
          "output_type": "display_data",
          "data": {
            "text/plain": [
              "<Figure size 800x400 with 1 Axes>"
            ],
            "image/png": "[encoded data removed]"
          },
          "metadata": {}
        }
      ],
      "source": [
        "# PCA sobre variables numéricas de X\n",
        "X_num = X[numerical_cols]\n",
        "X_num_imputed = SimpleImputer(strategy='mean').fit_transform(X_num)\n",
        "X_num_scaled = StandardScaler().fit_transform(X_num_imputed)\n",
        "\n",
        "pca = PCA(n_components=0.7, random_state=123)\n",
        "X_pca = pca.fit_transform(X_num_scaled)\n",
        "print(f\"Componentes PCA: {X_pca.shape[1]}\")\n",
        "\n",
        "plt.figure(figsize=(8,4))\n",
        "plt.plot(range(1, len(pca.explained_variance_ratio_)+1), pca.explained_variance_ratio_.cumsum(), marker='o')\n",
        "plt.xlabel('Número de Componentes')\n",
        "plt.ylabel('Varianza Acumulada')\n",
        "plt.title('Varianza Explicada por PCA')\n",
        "plt.grid(True)\n",
        "plt.show()"
      ]
    },
    {
      "cell_type": "markdown",
      "id": "11e56fc4",
      "metadata": {
        "id": "11e56fc4"
      },
      "source": [
        "## 5. MCA\n",
        "\n",
        "Aplicamos Análisis de Correspondencias Múltiples (MCA) a las variables categóricas para reducir la dimensionalidad y capturar patrones en los datos categóricos."
      ]
    },
    {
      "cell_type": "code",
      "execution_count": 17,
      "id": "d97ba4ba",
      "metadata": {
        "id": "d97ba4ba"
      },
      "outputs": [],
      "source": [
        "# MCA sobre variables categóricas de X\n",
        "X_cat = X[categorical_cols]\n",
        "X_cat_imputed = SimpleImputer(strategy='most_frequent').fit_transform(X_cat)\n",
        "X_cat_df = pd.DataFrame(X_cat_imputed, columns=categorical_cols)\n",
        "X_cat_dummies = pd.get_dummies(X_cat_df, drop_first=False)\n",
        "mca_model = mca.MCA(X_cat_dummies, ncols=len(X_cat_dummies.columns))"
      ]
    },
    {
      "cell_type": "code",
      "source": [
        "X_mca = mca_model.fs_r_sup(X_cat_dummies)"
      ],
      "metadata": {
        "id": "45_DCFiHrBSm"
      },
      "id": "45_DCFiHrBSm",
      "execution_count": 33,
      "outputs": []
    },
    {
      "cell_type": "code",
      "source": [
        "# Valores singulares y autovalores\n",
        "sv = mca_model.s\n",
        "eigvals = sv ** 2\n",
        "explained_var = eigvals / eigvals.sum()\n",
        "cum_explained_var = np.cumsum(explained_var)\n",
        "# Número de componentes para >=70% varianza explicada\n",
        "n_components_70 = np.argmax(cum_explained_var >= 0.7) + 1\n",
        "print(f\"Componentes MCA para >=70% varianza explicada: {n_components_70}\")\n",
        "X_mca_70 = X_mca[:, :n_components_70]\n",
        "print(f\"Shape de X_mca_70: {X_mca_70.shape}\")"
      ],
      "metadata": {
        "colab": {
          "base_uri": "https://localhost:8080/"
        },
        "id": "r0B5rdVtoFOb",
        "outputId": "c4db5fd8-56cd-48eb-da9f-fdc272c7b825"
      },
      "id": "r0B5rdVtoFOb",
      "execution_count": 34,
      "outputs": [
        {
          "output_type": "stream",
          "name": "stdout",
          "text": [
            "Componentes MCA para >=70% varianza explicada: 25\n",
            "Shape de X_mca_70: (100000, 25)\n"
          ]
        }
      ]
    },
    {
      "cell_type": "code",
      "source": [
        "# Graficar varianza acumulada\n",
        "plt.figure(figsize=(8,5))\n",
        "plt.plot(range(1, len(cum_explained_var)+1), cum_explained_var, marker='o', linestyle='--')\n",
        "plt.axhline(y=0.7, color='r', linestyle='-')\n",
        "plt.xlabel('Dimensiones MCA')\n",
        "plt.ylabel('Varianza acumulada explicada')\n",
        "plt.title('Varianza acumulada explicada por MCA')\n",
        "plt.grid(True)\n",
        "plt.show()"
      ],
      "metadata": {
        "colab": {
          "base_uri": "https://localhost:8080/",
          "height": 485
        },
        "id": "lUsSFaSMpC8X",
        "outputId": "0754ae70-92d2-4ad1-956c-00d54cb76f48"
      },
      "id": "lUsSFaSMpC8X",
      "execution_count": 31,
      "outputs": [
        {
          "output_type": "display_data",
          "data": {
            "text/plain": [
              "<Figure size 800x500 with 1 Axes>"
            ],
            "image/png": "[encoded data removed]"
          },
          "metadata": {}
        }
      ]
    },
    {
      "cell_type": "markdown",
      "source": [
        "## 5. Prueba rápida de modelos\n",
        "\n",
        "Aplicamos una prueba rápida de modelos con solo PCA y con PCA/MCA"
      ],
      "metadata": {
        "id": "r7LEiyPXsd3D"
      },
      "id": "r7LEiyPXsd3D"
    },
    {
      "cell_type": "code",
      "execution_count": null,
      "id": "08b2fc0e",
      "metadata": {
        "colab": {
          "base_uri": "https://localhost:8080/"
        },
        "id": "08b2fc0e",
        "outputId": "02b6b982-b9e8-4905-f0aa-6ac2890c955e"
      },
      "outputs": [
        {
          "output_type": "stream",
          "name": "stdout",
          "text": [
            "\n",
            "Resultados con PCA:\n",
            "LogisticRegression: 0.701 ± 0.000\n",
            "RandomForest: 0.700 ± 0.000\n"
          ]
        }
      ],
      "source": [
        "models = {\n",
        "    'LogisticRegression': LogisticRegression(max_iter=1000, random_state=123),\n",
        "    'RandomForest': RandomForestClassifier(n_estimators=100, random_state=123),\n",
        "    'SVM': SVC(kernel='rbf', probability=True, random_state=123),\n",
        "    'XGBoost': XGBClassifier(use_label_encoder=False, eval_metric='logloss', random_state=123)\n",
        "}\n",
        "\n",
        "results = {'PCA': {}, 'MCA': {}}\n",
        "cv = StratifiedKFold(n_splits=5, shuffle=True, random_state=123)\n",
        "\n",
        "# Evaluar modelos con PCA\n",
        "print(\"\\nResultados con PCA:\")\n",
        "for name, model in models.items():\n",
        "    scores = cross_val_score(model, X_pca, y, cv=cv, scoring='accuracy')\n",
        "    results['PCA'][name] = scores\n",
        "    print(f\"{name}: {np.mean(scores):.3f} ± {np.std(scores):.3f}\")\n",
        "\n",
        "# Evaluar modelos con MCA\n",
        "print(\"\\nResultados con MCA\")\n",
        "for name, model in models.items():\n",
        "    scores = cross_val_score(model, X_mca_70, y, cv=cv, scoring='accuracy')\n",
        "    results['MCA'][name] = scores\n",
        "    print(f\"{name}: {np.mean(scores):.3f} ± {np.std(scores):.3f}\")\n",
        "\n",
        "# Combinar componentes PCA y MCA\n",
        "X_combined = np.concatenate([X_pca, X_mca_70], axis=1)\n",
        "\n",
        "print(\"\\nResultados con PCA+MCA combinados:\")\n",
        "for name, model in models.items():\n",
        "    scores = cross_val_score(model, X_combined, y, cv=cv, scoring='accuracy')\n",
        "    print(f\"{name}: {np.mean(scores):.3f} ± {np.std(scores):.3f}\")"
      ]
    }
  ],
  "metadata": {
    "kernelspec": {
      "display_name": "Python 3",
      "language": "python",
      "name": "python3"
    },
    "language_info": {
      "codemirror_mode": {
        "name": "ipython",
        "version": 3
      },
      "file_extension": ".py",
      "mimetype": "text/x-python",
      "name": "python",
      "nbconvert_exporter": "python",
      "pygments_lexer": "ipython3",
      "version": "3.12.2"
    },
    "colab": {
      "provenance": []
    }
  },
  "nbformat": 4,
  "nbformat_minor": 5
}